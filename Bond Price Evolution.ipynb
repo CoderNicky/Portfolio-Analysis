{
 "cells": [
  {
   "cell_type": "markdown",
   "metadata": {},
   "source": [
    "# Monte Carlo Simulation of Prices of Coupon-Bearing Bond using CIR\n",
    "\n",
    "If we are fully funded, the best way to ensure that you will remain fully funded and be able to meet your liabilities is to build a portfolio of immunized bonds that are designed to match the future liability cash flows.\n",
    "\n",
    "In practice, few of us, both in a Pension Fund context and even more so in a Personal Investment context, already have the assets to fund all future liabilities. Other than in cases where 100% funding ratios are mandated by law, the far more common situation is that we typically do not have the assets we need to fully fund our future liabilities.\n",
    "\n",
    "That is where we need to allocate the wealth that we do have between the Performance Seeking Component, and the Goal Hedging Component.\n",
    "\n",
    "The next steps are to allocate our capital across two assets: the PSP and the GHP. The PSP is where we consciously take some risk in the hope that the extra risk is well rewarded - in other words, a high Sharpe Ratio portfolio. The GHP or Goal Hedging Portfolio is the immunized bond portfolio that designed to protect us in case the worst case happens and we do not get the returns that we hope for from the PSP.\n",
    "\n",
    "This of course raises the question of how much to allocate to the PSP and how much to the GHP. Clearly, allocating more to the PSP entails a higher expected return but a higher degree of risk. On the other hand, allocating too little to the PSP means less risk, but lower expected return. Thus, the decision of how much to allocate to the PSP vs the GHP is essentially a risk budgeting exercise.\n",
    "\n",
    "First, we'll need to make a choice of the PSP. We'll start with the Geometric Brownian Motion based random stock portfolios. \n",
    "\n",
    "However, we'll also need to pick a GHP. We can use Zero Coupon Bonds driven by random changes in interest rates using the CIR model. Since these are Zero Coupon, they are already immunized against interest rates if they are held to maturity. In practice, we've seen that even if we aren't able to buy Zero Coupon bonds, we can construct bond portfolios that are designed to be insensitive to interest rates through duration matching.\n",
    "\n",
    "We'll limit ourselves to Treasury Bonds and ignore credit risk (i.e. the risk of default on the Bond)."
   ]
  },
  {
   "cell_type": "code",
   "execution_count": null,
   "metadata": {},
   "outputs": [],
   "source": [
    "import numpy as np\n",
    "import pandas as pd\n",
    "import edhec_risk_kit_127 as erk\n",
    "%matplotlib inline\n",
    "%load_ext autoreload\n",
    "%autoreload 2\n"
   ]
  },
  {
   "cell_type": "markdown",
   "metadata": {},
   "source": [
    "Note that when interest rates rise, it is a fallacy that holding an allocation to bonds will give you the benefit of that increase. In fact, the opposite happens since the price of the bond will fall, and as a result your account will suffer a capital loss.\n",
    "\n",
    "Let's examine what happens to your wealth when you use a portfolio of stocks and bonds over a 5 year period.\n",
    "\n",
    "For simplicity, we'll assume you are holding a bond that has a maturity of 5 years and for simplicity with avoiding intra-coupon caclulations, let's assume it pays a 5% coupon and the coupon is paid out each month and interest rates change from 3% to 3.2%\n"
   ]
  },
  {
   "cell_type": "code",
   "execution_count": 4,
   "metadata": {},
   "outputs": [
    {
     "data": {
      "text/plain": [
       "0    109.275393\n",
       "dtype: float64"
      ]
     },
     "execution_count": 4,
     "metadata": {},
     "output_type": "execute_result"
    }
   ],
   "source": [
    "erk.bond_price(5,100,.05,12,.03)"
   ]
  },
  {
   "cell_type": "code",
   "execution_count": 7,
   "metadata": {},
   "outputs": [
    {
     "data": {
      "text/plain": [
       "0    108.306703\n",
       "dtype: float64"
      ]
     },
     "execution_count": 7,
     "metadata": {},
     "output_type": "execute_result"
    }
   ],
   "source": [
    "erk.bond_price(5,100,.05,12,.032)"
   ]
  },
  {
   "cell_type": "code",
   "execution_count": 9,
   "metadata": {},
   "outputs": [],
   "source": [
    "rates, zc_prices = erk.cir(10, 500, b=0.03, r_0 = 0.03)"
   ]
  },
  {
   "cell_type": "markdown",
   "metadata": {},
   "source": [
    "When we start out, all rates are at 3% and so the prices are all the same:"
   ]
  },
  {
   "cell_type": "code",
   "execution_count": 11,
   "metadata": {},
   "outputs": [
    {
     "data": {
      "text/plain": [
       "1    109.275393\n",
       "2    109.275393\n",
       "3    109.275393\n",
       "dtype: float64"
      ]
     },
     "execution_count": 11,
     "metadata": {},
     "output_type": "execute_result"
    }
   ],
   "source": [
    "erk.bond_price(5,100,.05,12, rates.iloc[0][[1,2,3]])"
   ]
  },
  {
   "cell_type": "code",
   "execution_count": 13,
   "metadata": {},
   "outputs": [
    {
     "data": {
      "text/html": [
       "<div>\n",
       "<style scoped>\n",
       "    .dataframe tbody tr th:only-of-type {\n",
       "        vertical-align: middle;\n",
       "    }\n",
       "\n",
       "    .dataframe tbody tr th {\n",
       "        vertical-align: top;\n",
       "    }\n",
       "\n",
       "    .dataframe thead th {\n",
       "        text-align: right;\n",
       "    }\n",
       "</style>\n",
       "<table border=\"1\" class=\"dataframe\">\n",
       "  <thead>\n",
       "    <tr style=\"text-align: right;\">\n",
       "      <th></th>\n",
       "      <th>1</th>\n",
       "      <th>2</th>\n",
       "      <th>3</th>\n",
       "    </tr>\n",
       "  </thead>\n",
       "  <tbody>\n",
       "    <tr>\n",
       "      <th>0</th>\n",
       "      <td>0.030000</td>\n",
       "      <td>0.030000</td>\n",
       "      <td>0.030000</td>\n",
       "    </tr>\n",
       "    <tr>\n",
       "      <th>1</th>\n",
       "      <td>0.029567</td>\n",
       "      <td>0.026890</td>\n",
       "      <td>0.029184</td>\n",
       "    </tr>\n",
       "    <tr>\n",
       "      <th>2</th>\n",
       "      <td>0.029875</td>\n",
       "      <td>0.028751</td>\n",
       "      <td>0.031163</td>\n",
       "    </tr>\n",
       "    <tr>\n",
       "      <th>3</th>\n",
       "      <td>0.033309</td>\n",
       "      <td>0.034690</td>\n",
       "      <td>0.028970</td>\n",
       "    </tr>\n",
       "    <tr>\n",
       "      <th>4</th>\n",
       "      <td>0.036019</td>\n",
       "      <td>0.030113</td>\n",
       "      <td>0.028432</td>\n",
       "    </tr>\n",
       "  </tbody>\n",
       "</table>\n",
       "</div>"
      ],
      "text/plain": [
       "          1         2         3\n",
       "0  0.030000  0.030000  0.030000\n",
       "1  0.029567  0.026890  0.029184\n",
       "2  0.029875  0.028751  0.031163\n",
       "3  0.033309  0.034690  0.028970\n",
       "4  0.036019  0.030113  0.028432"
      ]
     },
     "execution_count": 13,
     "metadata": {},
     "output_type": "execute_result"
    }
   ],
   "source": [
    "rates[[1,2,3]].head()"
   ]
  },
  {
   "cell_type": "markdown",
   "metadata": {},
   "source": [
    "At t=0 interest rates are the same across all scenarios. However at the first step, we see that (i) the maturity decreases and (ii) interest rates change, and so the bond prices diverge:"
   ]
  },
  {
   "cell_type": "code",
   "execution_count": 9,
   "metadata": {},
   "outputs": [
    {
     "data": {
      "text/plain": [
       "1    112.236037\n",
       "2    108.640439\n",
       "3    109.216814\n",
       "dtype: float64"
      ]
     },
     "execution_count": 9,
     "metadata": {},
     "output_type": "execute_result"
    }
   ],
   "source": [
    "erk.bond_price(5-1/12,100,.05,12, rates.iloc[1][[1,2,3]])"
   ]
  },
  {
   "cell_type": "markdown",
   "metadata": {},
   "source": [
    "Therefore, we can now generate the bond prices at time 0:"
   ]
  },
  {
   "cell_type": "code",
   "execution_count": 10,
   "metadata": {},
   "outputs": [
    {
     "data": {
      "text/plain": [
       "495    109.275393\n",
       "496    109.275393\n",
       "497    109.275393\n",
       "498    109.275393\n",
       "499    109.275393\n",
       "dtype: float64"
      ]
     },
     "execution_count": 10,
     "metadata": {},
     "output_type": "execute_result"
    }
   ],
   "source": [
    "erk.bond_price(5, 100, .05, 12, rates.iloc[0]).tail()"
   ]
  },
  {
   "cell_type": "markdown",
   "metadata": {},
   "source": [
    "And at time t=1"
   ]
  },
  {
   "cell_type": "markdown",
   "metadata": {},
   "source": [
    "### Simulating Prices of a Coupon-bearing Bond\n",
    "\n",
    "Now that we have the rates over time and the ability to compute bond prices from rates, we can stitch together the prices of a bond over time:\n",
    "\n",
    "```python\n",
    "def bond_price(maturity, principal=100, coupon_rate=0.03, coupons_per_year=12, discount_rate=0.03):\n",
    "    \"\"\"\n",
    "    Computes the price of a bond that pays regular coupons until maturity\n",
    "    at which time the principal and the final coupon is returned\n",
    "    This is not designed to be efficient, rather,\n",
    "    it is to illustrate the underlying principle behind bond pricing!\n",
    "    If discount_rate is a DataFrame, then this is assumed to be the rate on each coupon date\n",
    "    and the bond value is computed over time.\n",
    "    i.e. The index of the discount_rate DataFrame is assumed to be the coupon number\n",
    "    \"\"\"\n",
    "    if isinstance(discount_rate, pd.DataFrame):\n",
    "        pricing_dates = discount_rate.index\n",
    "        prices = pd.DataFrame(index=pricing_dates, columns=discount_rate.columns)\n",
    "        for t in pricing_dates:\n",
    "            prices.loc[t] = bond_price(maturity-t/coupons_per_year, principal, coupon_rate, coupons_per_year,\n",
    "                                      discount_rate.loc[t])\n",
    "        return prices\n",
    "    else: # base case ... single time period\n",
    "        if maturity <= 0: return principal+principal*coupon_rate/coupons_per_year\n",
    "        cash_flows = bond_cash_flows(maturity, principal, coupon_rate, coupons_per_year)\n",
    "        return pv(cash_flows, discount_rate/coupons_per_year)\n",
    "```\n"
   ]
  },
  {
   "cell_type": "code",
   "execution_count": 16,
   "metadata": {},
   "outputs": [
    {
     "data": {
      "text/plain": [
       "<Axes: >"
      ]
     },
     "execution_count": 16,
     "metadata": {},
     "output_type": "execute_result"
    },
    {
     "data": {
      "image/png": "[encoded data removed]",
      "text/plain": [
       "<Figure size 1200x600 with 1 Axes>"
      ]
     },
     "metadata": {},
     "output_type": "display_data"
    }
   ],
   "source": [
    "erk.bond_price(10, 100, .05, 12, rates[[1,2,3,4]]).plot(legend=False, figsize=(12,6))"
   ]
  },
  {
   "cell_type": "code",
   "execution_count": 18,
   "metadata": {},
   "outputs": [
    {
     "data": {
      "text/html": [
       "<div>\n",
       "<style scoped>\n",
       "    .dataframe tbody tr th:only-of-type {\n",
       "        vertical-align: middle;\n",
       "    }\n",
       "\n",
       "    .dataframe tbody tr th {\n",
       "        vertical-align: top;\n",
       "    }\n",
       "\n",
       "    .dataframe thead th {\n",
       "        text-align: right;\n",
       "    }\n",
       "</style>\n",
       "<table border=\"1\" class=\"dataframe\">\n",
       "  <thead>\n",
       "    <tr style=\"text-align: right;\">\n",
       "      <th></th>\n",
       "      <th>1</th>\n",
       "      <th>2</th>\n",
       "      <th>3</th>\n",
       "      <th>4</th>\n",
       "    </tr>\n",
       "  </thead>\n",
       "  <tbody>\n",
       "    <tr>\n",
       "      <th>0</th>\n",
       "      <td>117.260292</td>\n",
       "      <td>117.260292</td>\n",
       "      <td>117.260292</td>\n",
       "      <td>117.260292</td>\n",
       "    </tr>\n",
       "    <tr>\n",
       "      <th>1</th>\n",
       "      <td>117.543866</td>\n",
       "      <td>120.096367</td>\n",
       "      <td>117.905607</td>\n",
       "      <td>115.495942</td>\n",
       "    </tr>\n",
       "    <tr>\n",
       "      <th>2</th>\n",
       "      <td>117.129648</td>\n",
       "      <td>118.181977</td>\n",
       "      <td>115.936219</td>\n",
       "      <td>112.788421</td>\n",
       "    </tr>\n",
       "    <tr>\n",
       "      <th>3</th>\n",
       "      <td>113.879559</td>\n",
       "      <td>112.64968</td>\n",
       "      <td>117.843936</td>\n",
       "      <td>115.97796</td>\n",
       "    </tr>\n",
       "    <tr>\n",
       "      <th>4</th>\n",
       "      <td>111.398719</td>\n",
       "      <td>116.661013</td>\n",
       "      <td>118.2102</td>\n",
       "      <td>116.274691</td>\n",
       "    </tr>\n",
       "  </tbody>\n",
       "</table>\n",
       "</div>"
      ],
      "text/plain": [
       "            1           2           3           4\n",
       "0  117.260292  117.260292  117.260292  117.260292\n",
       "1  117.543866  120.096367  117.905607  115.495942\n",
       "2  117.129648  118.181977  115.936219  112.788421\n",
       "3  113.879559   112.64968  117.843936   115.97796\n",
       "4  111.398719  116.661013    118.2102  116.274691"
      ]
     },
     "execution_count": 18,
     "metadata": {},
     "output_type": "execute_result"
    }
   ],
   "source": [
    "prices = erk.bond_price(10, 100, .05, 12, rates[[1,2,3,4]])\n",
    "prices.head()"
   ]
  },
  {
   "cell_type": "markdown",
   "metadata": {},
   "source": [
    "One might be tempted to think that since we have bond prices, we can generate returns as usual, by using `.pct_change().dropna()`."
   ]
  },
  {
   "cell_type": "code",
   "execution_count": 20,
   "metadata": {},
   "outputs": [
    {
     "data": {
      "text/plain": [
       "1   -0.015387\n",
       "2   -0.015387\n",
       "3   -0.015387\n",
       "4   -0.015387\n",
       "dtype: float64"
      ]
     },
     "execution_count": 20,
     "metadata": {},
     "output_type": "execute_result"
    }
   ],
   "source": [
    "br = prices.pct_change().dropna()\n",
    "erk.annualize_rets(br, 12)"
   ]
  },
  {
   "cell_type": "markdown",
   "metadata": {},
   "source": [
    "The reason a 3% interest rate regime is yielding a -1.5% return in these 4 scenarios is that this is the _price return_. Because the interest rate at the time we bought it was less than the coupon rate, we bought it at a premium, taking a capital loss when we sold it at the end. We need to compute the Total Return of a bond, which is the price return PLUS the dividend:\n",
    "\n",
    "```python\n",
    "def bond_total_return(monthly_prices, principal, coupon_rate, coupons_per_year):\n",
    "    \"\"\"\n",
    "    Computes the total return of a Bond based on monthly bond prices and coupon payments\n",
    "    Assumes that dividends (coupons) are paid out at the end of the period (e.g. end of 3 months for quarterly div)\n",
    "    and that dividends are reinvested in the bond\n",
    "    \"\"\"\n",
    "    coupons = pd.DataFrame(data = 0, index=monthly_prices.index, columns=monthly_prices.columns)\n",
    "    t_max = monthly_prices.index.max()\n",
    "    pay_date = np.linspace(12/coupons_per_year, t_max, int(coupons_per_year*t_max/12), dtype=int)\n",
    "    coupons.iloc[pay_date] = principal*coupon_rate/coupons_per_year\n",
    "    total_returns = (monthly_prices + coupons)/monthly_prices.shift()-1\n",
    "    return total_returns.dropna()\n",
    "```\n"
   ]
  },
  {
   "cell_type": "code",
   "execution_count": 22,
   "metadata": {},
   "outputs": [
    {
     "data": {
      "text/plain": [
       "1     0.03459\n",
       "2    0.028256\n",
       "3    0.028979\n",
       "4    0.030363\n",
       "dtype: object"
      ]
     },
     "execution_count": 22,
     "metadata": {},
     "output_type": "execute_result"
    }
   ],
   "source": [
    "p = erk.bond_price(10, 100, .05, 12, rates[[1,2,3,4]])\n",
    "btr = erk.bond_total_return(p, 100, .05, 12)\n",
    "erk.annualize_rets(btr, 12)"
   ]
  },
  {
   "cell_type": "markdown",
   "metadata": {},
   "source": [
    "Which gives us the approximately 3% return we expected, because that was the prevailing rate when we bought it. We also assumed that we reinvested the coupon in the bond and that is why we did not get the exact same return in each case, since we would observe prices based on the then-prevalent interest rates."
   ]
  },
  {
   "cell_type": "markdown",
   "metadata": {},
   "source": [
    "## Putting it all together: Monte Carlo Simulation of Asset Allocation\n",
    "\n",
    "Now that we have a way to generate prices from which to derive returns, we can experiment with allocating across the different Asset Classes.\n",
    "\n",
    "Let's start by examining the performance of a 70-30 allocation to Stocks and Bonds. Assume Stocks return an average of 7% per year with a 15% vol and use the CIR model to generate bond prices for a 10 year and 30 year bond that pays a 5% coupon. For simplicity, assume the coupon is paid monthly to avoid having to deal with partial coupons. Assume the Bond Portfolio consists of 60% in the 10 year bond and 40% in the 30 year bond."
   ]
  },
  {
   "cell_type": "code",
   "execution_count": 26,
   "metadata": {},
   "outputs": [
    {
     "data": {
      "text/html": [
       "<div>\n",
       "<style scoped>\n",
       "    .dataframe tbody tr th:only-of-type {\n",
       "        vertical-align: middle;\n",
       "    }\n",
       "\n",
       "    .dataframe tbody tr th {\n",
       "        vertical-align: top;\n",
       "    }\n",
       "\n",
       "    .dataframe thead th {\n",
       "        text-align: right;\n",
       "    }\n",
       "</style>\n",
       "<table border=\"1\" class=\"dataframe\">\n",
       "  <thead>\n",
       "    <tr style=\"text-align: right;\">\n",
       "      <th></th>\n",
       "      <th>1</th>\n",
       "      <th>2</th>\n",
       "      <th>3</th>\n",
       "    </tr>\n",
       "  </thead>\n",
       "  <tbody>\n",
       "    <tr>\n",
       "      <th>116</th>\n",
       "      <td>70.61454</td>\n",
       "      <td>179.946853</td>\n",
       "      <td>142.761363</td>\n",
       "    </tr>\n",
       "    <tr>\n",
       "      <th>117</th>\n",
       "      <td>75.553811</td>\n",
       "      <td>178.77072</td>\n",
       "      <td>145.664574</td>\n",
       "    </tr>\n",
       "    <tr>\n",
       "      <th>118</th>\n",
       "      <td>71.019731</td>\n",
       "      <td>176.062521</td>\n",
       "      <td>149.106938</td>\n",
       "    </tr>\n",
       "    <tr>\n",
       "      <th>119</th>\n",
       "      <td>72.126138</td>\n",
       "      <td>178.37267</td>\n",
       "      <td>148.941314</td>\n",
       "    </tr>\n",
       "    <tr>\n",
       "      <th>120</th>\n",
       "      <td>75.385122</td>\n",
       "      <td>179.066051</td>\n",
       "      <td>144.932506</td>\n",
       "    </tr>\n",
       "  </tbody>\n",
       "</table>\n",
       "</div>"
      ],
      "text/plain": [
       "             1           2           3\n",
       "116   70.61454  179.946853  142.761363\n",
       "117  75.553811   178.77072  145.664574\n",
       "118  71.019731  176.062521  149.106938\n",
       "119  72.126138   178.37267  148.941314\n",
       "120  75.385122  179.066051  144.932506"
      ]
     },
     "execution_count": 26,
     "metadata": {},
     "output_type": "execute_result"
    }
   ],
   "source": [
    "price_30 = erk.bond_price(30, 100, .05, 12, rates)\n",
    "price_30[[1,2,3]].tail()"
   ]
  },
  {
   "cell_type": "code",
   "execution_count": 28,
   "metadata": {},
   "outputs": [],
   "source": [
    "rets_30 = erk.bond_total_return(price_30, 100, .05, 12)\n",
    "rets_10 = erk.bond_total_return(price_10, 100, .05, 12)"
   ]
  },
  {
   "cell_type": "markdown",
   "metadata": {},
   "source": [
    "Now we can assume monthly rebalancing and compute the monthly returns of the bond portfolio:"
   ]
  },
  {
   "cell_type": "code",
   "execution_count": 31,
   "metadata": {},
   "outputs": [
    {
     "data": {
      "text/html": [
       "<div>\n",
       "<style scoped>\n",
       "    .dataframe tbody tr th:only-of-type {\n",
       "        vertical-align: middle;\n",
       "    }\n",
       "\n",
       "    .dataframe tbody tr th {\n",
       "        vertical-align: top;\n",
       "    }\n",
       "\n",
       "    .dataframe thead th {\n",
       "        text-align: right;\n",
       "    }\n",
       "</style>\n",
       "<table border=\"1\" class=\"dataframe\">\n",
       "  <thead>\n",
       "    <tr style=\"text-align: right;\">\n",
       "      <th></th>\n",
       "      <th>Annualized Return</th>\n",
       "      <th>Annualized Vol</th>\n",
       "      <th>Skewness</th>\n",
       "      <th>Kurtosis</th>\n",
       "      <th>Cornish-Fisher VaR (5%)</th>\n",
       "      <th>Historic CVaR (5%)</th>\n",
       "      <th>Sharpe Ratio</th>\n",
       "      <th>Max Drawdown</th>\n",
       "    </tr>\n",
       "  </thead>\n",
       "  <tbody>\n",
       "    <tr>\n",
       "      <th>0</th>\n",
       "      <td>0.036085</td>\n",
       "      <td>0.00423</td>\n",
       "      <td>0.411869</td>\n",
       "      <td>3.659165</td>\n",
       "      <td>-0.001121</td>\n",
       "      <td>-0.000752</td>\n",
       "      <td>1.400061</td>\n",
       "      <td>-0.000834</td>\n",
       "    </tr>\n",
       "  </tbody>\n",
       "</table>\n",
       "</div>"
      ],
      "text/plain": [
       "   Annualized Return  Annualized Vol  Skewness  Kurtosis  \\\n",
       "0           0.036085         0.00423  0.411869  3.659165   \n",
       "\n",
       "   Cornish-Fisher VaR (5%)  Historic CVaR (5%)  Sharpe Ratio  Max Drawdown  \n",
       "0                -0.001121           -0.000752      1.400061     -0.000834  "
      ]
     },
     "execution_count": 31,
     "metadata": {},
     "output_type": "execute_result"
    }
   ],
   "source": [
    "rets_bonds = .6*rets_10 + .4*rets_30\n",
    "mean_rets_bonds = rets_bonds.mean(axis='columns')\n",
    "erk.summary_stats(pd.DataFrame(mean_rets_bonds))"
   ]
  },
  {
   "cell_type": "code",
   "execution_count": 33,
   "metadata": {},
   "outputs": [
    {
     "data": {
      "text/plain": [
       "(121, 500)"
      ]
     },
     "execution_count": 33,
     "metadata": {},
     "output_type": "execute_result"
    }
   ],
   "source": [
    "price_eq = erk.gbm(n_years=10,n_scenarios=500,mu=0.07, sigma=0.15)\n",
    "price_eq.shape"
   ]
  },
  {
   "cell_type": "code",
   "execution_count": 35,
   "metadata": {},
   "outputs": [
    {
     "data": {
      "text/plain": [
       "(120, 500)"
      ]
     },
     "execution_count": 35,
     "metadata": {},
     "output_type": "execute_result"
    }
   ],
   "source": [
    "rets_eq = price_eq.pct_change().dropna()\n",
    "rets_eq.shape"
   ]
  },
  {
   "cell_type": "code",
   "execution_count": 37,
   "metadata": {},
   "outputs": [
    {
     "data": {
      "text/plain": [
       "(120, 500)"
      ]
     },
     "execution_count": 37,
     "metadata": {},
     "output_type": "execute_result"
    }
   ],
   "source": [
    "rets_bonds.shape"
   ]
  },
  {
   "cell_type": "code",
   "execution_count": 39,
   "metadata": {},
   "outputs": [
    {
     "data": {
      "text/html": [
       "<div>\n",
       "<style scoped>\n",
       "    .dataframe tbody tr th:only-of-type {\n",
       "        vertical-align: middle;\n",
       "    }\n",
       "\n",
       "    .dataframe tbody tr th {\n",
       "        vertical-align: top;\n",
       "    }\n",
       "\n",
       "    .dataframe thead th {\n",
       "        text-align: right;\n",
       "    }\n",
       "</style>\n",
       "<table border=\"1\" class=\"dataframe\">\n",
       "  <thead>\n",
       "    <tr style=\"text-align: right;\">\n",
       "      <th></th>\n",
       "      <th>Annualized Return</th>\n",
       "      <th>Annualized Vol</th>\n",
       "      <th>Skewness</th>\n",
       "      <th>Kurtosis</th>\n",
       "      <th>Cornish-Fisher VaR (5%)</th>\n",
       "      <th>Historic CVaR (5%)</th>\n",
       "      <th>Sharpe Ratio</th>\n",
       "      <th>Max Drawdown</th>\n",
       "    </tr>\n",
       "  </thead>\n",
       "  <tbody>\n",
       "    <tr>\n",
       "      <th>0</th>\n",
       "      <td>0.061113</td>\n",
       "      <td>0.004927</td>\n",
       "      <td>-0.291906</td>\n",
       "      <td>3.153126</td>\n",
       "      <td>-0.002516</td>\n",
       "      <td>-0.001731</td>\n",
       "      <td>6.146459</td>\n",
       "      <td>0.0</td>\n",
       "    </tr>\n",
       "  </tbody>\n",
       "</table>\n",
       "</div>"
      ],
      "text/plain": [
       "   Annualized Return  Annualized Vol  Skewness  Kurtosis  \\\n",
       "0           0.061113        0.004927 -0.291906  3.153126   \n",
       "\n",
       "   Cornish-Fisher VaR (5%)  Historic CVaR (5%)  Sharpe Ratio  Max Drawdown  \n",
       "0                -0.002516           -0.001731      6.146459           0.0  "
      ]
     },
     "execution_count": 39,
     "metadata": {},
     "output_type": "execute_result"
    }
   ],
   "source": [
    "rets = .70*rets_eq + 0.3*rets_bonds\n",
    "rets_mean = rets.mean(axis='columns')\n",
    "erk.summary_stats(pd.DataFrame(rets_mean))"
   ]
  }
 ],
 "metadata": {
  "kernelspec": {
   "display_name": "anaconda-panel-2023.05-py310",
   "language": "python",
   "name": "conda-env-anaconda-panel-2023.05-py310-py"
  },
  "language_info": {
   "codemirror_mode": {
    "name": "ipython",
    "version": 3
   },
   "file_extension": ".py",
   "mimetype": "text/x-python",
   "name": "python",
   "nbconvert_exporter": "python",
   "pygments_lexer": "ipython3",
   "version": "3.11.5"
  }
 },
 "nbformat": 4,
 "nbformat_minor": 4
}
